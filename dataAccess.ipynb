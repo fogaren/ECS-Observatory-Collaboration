{
 "cells": [
  {
   "cell_type": "markdown",
   "metadata": {},
   "source": [
    "# dataAccess\n",
    "This notebook demonstrates a basic example of OOI data acquision using the python package [**yodapy**](https://github.com/cormorack/yodapy) specifically structured for individuals involved in the OOI ECS Evaluation Article project. **Part 1** of this notebook walks through exploring what instruments and data are available at the OOI Coastal Enduance Oregon Line. In **Part 2** we request the data from a specific instrument that we chose in Part 1. **Part 3** demonstrates a few quick ways of exploring the dataset using the built in plotting functions of the xarray dataset.  You can jump in to Part 2 directly if you already have an idea of the instrument you are looking for.\n",
    "\n",
    "This notebook was designed to be \"clone and play\", and is set up to run:\n",
    "- A local python installation\n",
    "- An instance of the [escience-pangeo deployment](https://nasa.pangeo.io)\n",
    "- An instance of [Google Colaboratory](https://colab.research.google.com/)\n",
    "\n",
    "This notebook assumes most standard python science and data libraries are already part of your environment, and simply installs `yodapy` under the assumption that you will be spinning up a clean instance each time.  If you will be using this locally, you can comment out the `!pip install yodapy` command in the import block below and instead install it via command line prior to using this notebook.  If you plan to look at a long time series, many of the datasets you may be requesting can be quite large (2-5 Gb), so keep that in mind when choosing where to run/host your analysis.\n",
    "\n",
    "### Part 1: Identifying Available OOI Data\n",
    "\n",
    "Let's import `yodapy` and get things going:"
   ]
  },
  {
   "cell_type": "code",
   "execution_count": null,
   "metadata": {},
   "outputs": [],
   "source": [
    "!pip install yodapy # If using your local machine, comment out this line but be sure to have already installed it to your computer before launching the notebook \n",
    "from yodapy.datasources import OOI\n",
    "from yodapy.utils.creds import set_credentials_file\n",
    "%matplotlib inline # this is a jupyter command just telling the notebook to show me all of the plots I make inline as call a plot function"
   ]
  },
  {
   "cell_type": "markdown",
   "metadata": {},
   "source": [
    "You will need to set your own OOI credentials in order to access/request data.  If you are working locally and have installed `yodapy` on your own machine, you will only every have to execute cell below *once*.  After that, clear your username and token and comment out the line so that you don't accidently share this information.\n",
    "\n",
    "If you do not know or have credentials, you can register/find them at the [OOI Data Portal](https://ooinet.oceanobservatories.org/). For most institutions, select the **Log In** dropdown at the top right corner fo the webpage, and click **Log In**.  Select **CILogin**, which will forward you to a new website where you can select your institution and use your credentials.  Once you are returned to the Data Portal, you should now see your email at the top right of the page.  Click on your email and select **User Profile**, where you will find your API credentials which includes both your username (format OOIAPI-XXXXXXXXXXXXXX) and your token (format XXXXXXXXXXX). Copy that information into the cell below:"
   ]
  },
  {
   "cell_type": "code",
   "execution_count": 4,
   "metadata": {},
   "outputs": [],
   "source": [
    "set_credentials_file(data_source='ooi', username='', token='')"
   ]
  },
  {
   "cell_type": "markdown",
   "metadata": {},
   "source": [
    "Now thanks to yodapy, we can initialize an OOI access object:"
   ]
  },
  {
   "cell_type": "code",
   "execution_count": null,
   "metadata": {},
   "outputs": [],
   "source": [
    "ooi = OOI()"
   ]
  },
  {
   "cell_type": "code",
   "execution_count": 74,
   "metadata": {},
   "outputs": [
    {
     "data": {
      "text/plain": [
       "\u001b[0;31mSignature:\u001b[0m\n",
       "\u001b[0mooi\u001b[0m\u001b[0;34m.\u001b[0m\u001b[0msearch\u001b[0m\u001b[0;34m(\u001b[0m\u001b[0;34m\u001b[0m\n",
       "\u001b[0;34m\u001b[0m    \u001b[0mregion\u001b[0m\u001b[0;34m=\u001b[0m\u001b[0;32mNone\u001b[0m\u001b[0;34m,\u001b[0m\u001b[0;34m\u001b[0m\n",
       "\u001b[0;34m\u001b[0m    \u001b[0msite\u001b[0m\u001b[0;34m=\u001b[0m\u001b[0;32mNone\u001b[0m\u001b[0;34m,\u001b[0m\u001b[0;34m\u001b[0m\n",
       "\u001b[0;34m\u001b[0m    \u001b[0mnode\u001b[0m\u001b[0;34m=\u001b[0m\u001b[0;32mNone\u001b[0m\u001b[0;34m,\u001b[0m\u001b[0;34m\u001b[0m\n",
       "\u001b[0;34m\u001b[0m    \u001b[0minstrument\u001b[0m\u001b[0;34m=\u001b[0m\u001b[0;32mNone\u001b[0m\u001b[0;34m,\u001b[0m\u001b[0;34m\u001b[0m\n",
       "\u001b[0;34m\u001b[0m    \u001b[0mstream_type\u001b[0m\u001b[0;34m=\u001b[0m\u001b[0;34m'Science'\u001b[0m\u001b[0;34m,\u001b[0m\u001b[0;34m\u001b[0m\n",
       "\u001b[0;34m\u001b[0m    \u001b[0mstream_method\u001b[0m\u001b[0;34m=\u001b[0m\u001b[0;32mNone\u001b[0m\u001b[0;34m,\u001b[0m\u001b[0;34m\u001b[0m\n",
       "\u001b[0;34m\u001b[0m    \u001b[0mstream\u001b[0m\u001b[0;34m=\u001b[0m\u001b[0;32mNone\u001b[0m\u001b[0;34m,\u001b[0m\u001b[0;34m\u001b[0m\n",
       "\u001b[0;34m\u001b[0m    \u001b[0mparameter\u001b[0m\u001b[0;34m=\u001b[0m\u001b[0;32mNone\u001b[0m\u001b[0;34m,\u001b[0m\u001b[0;34m\u001b[0m\n",
       "\u001b[0;34m\u001b[0m\u001b[0;34m)\u001b[0m\u001b[0;34m\u001b[0m\u001b[0;34m\u001b[0m\u001b[0m\n",
       "\u001b[0;31mDocstring:\u001b[0m\n",
       "Perform a search, and filters data catalog\n",
       "\n",
       "Args:\n",
       "    region (str): Region name. If multiple use comma separated.\n",
       "    site (str): Site name. If multiple use comma separated.\n",
       "    node (str): Node name. If multiple use comma separated.\n",
       "    instrument (str): Instrument name. If multiple use comma separated.\n",
       "    stream_type (str): Stream type. Either 'Science' or 'Engineering'. If multiple use comma separated.\n",
       "    stream_method (str): Stream method. If multiple use comma separated.\n",
       "    stream (str): Stream name. If multiple use comma separated.\n",
       "    parameter (str): Parameter name. If multiple use comma separated.\n",
       "\n",
       "Returns:\n",
       "    self: Modified OOI Object\n",
       "\u001b[0;31mFile:\u001b[0m      /srv/conda/envs/notebook/lib/python3.6/site-packages/yodapy/datasources/ooi/OOI.py\n",
       "\u001b[0;31mType:\u001b[0m      method\n"
      ]
     },
     "metadata": {},
     "output_type": "display_data"
    }
   ],
   "source": [
    "?ooi.search"
   ]
  },
  {
   "cell_type": "markdown",
   "metadata": {},
   "source": [
    "This ooi object lets us search for data at a series of levels in the OOI system, from just selecting a region of the network to being as specific as a data parameter we are looking for.  For more information, you can run `?ooi.seach` to see the help information for the function. An example of all the levels of filter you can specify (based on the Coastal Endurance - Oregon Inshore Surface Mooring - Surface Buoy - CTD CE01ISSM-SBD17-06-CTDBPC000) are:\n",
    "\n",
    "| filter          | description             | example                               |\n",
    "|-----------------|-------------------------|---------------------------------------|\n",
    "| `region`        | OOI region name         | `region='Coastal Endurance'`          |\n",
    "| `site`          | OOI site name           | `site='Oregon Shelf Surface Mooring'` |\n",
    "| `node`          | Instrument package      | `node='Surface Buoy'`                 |\n",
    "| `instrument`    | Instrument name         | `instrument='CTD'`                    |\n",
    "| `stream_type`   | Type of data stream     | `stream_type='Science'`               |\n",
    "| `stream_method` | How data was delivered  | `stream_method='telemetered'`         |\n",
    "| `stream`        | Specific name of stream | `stream='ctdbp_cdef_dcl_instrument'`  |\n",
    "| `parameter`     | Specific data parameter | `parameter='Seawater Conductivity'`   |\n",
    "\n",
    "For more information and examples of how OOI designates each of these, you can look at the [OOI Data Acces Portal](https://ooinet.oceanobservatories.org/).  For the purpose of this notebook, I'm going to jump right in to the data available at the Coastal Endurance Oregon Shelf Line which has cabled instruments at both the Shelf and Offshore sites.\n",
    "\n",
    "<img src=\"Images/OOIOregonLine.png\" alt=\"Drawing\" style=\"width: 500px;\"/>\n",
    "\n",
    "Since this line is actually composed of several \"sites\", I'm going to run a search for everything at Coastal Endurance and then print out a list of sites that are included on the Oregon Line (note: glider data is always in its own site referred to as *Mobile Assets*)."
   ]
  },
  {
   "cell_type": "code",
   "execution_count": 75,
   "metadata": {},
   "outputs": [
    {
     "name": "stdout",
     "output_type": "stream",
     "text": [
      "Name of OOI Oregon Sites:  ['Oregon Inshore Surface Mooring', 'Oregon Inshore Surface Piercing Profiler Mooring', 'Oregon Offshore Cabled Benthic Experiment Package', 'Oregon Offshore Cabled Deep Profiler Mooring', 'Oregon Offshore Cabled Shallow Profiler Mooring', 'Oregon Offshore Surface Mooring', 'Oregon Shelf Cabled Benthic Experiment Package', 'Oregon Shelf Surface Mooring', 'Oregon Shelf Surface Piercing Profiler Mooring']\n"
     ]
    }
   ],
   "source": [
    "ooi.search(region='Coastal Endurance')\n",
    "print('Name of OOI Oregon Sites: ',[s for s in ooi.instruments['site_name'].unique() if 'Oregon' in s])"
   ]
  },
  {
   "cell_type": "markdown",
   "metadata": {},
   "source": [
    "Now that we have the names of the sites available, we can dig deeper and see what instruments are available by specifying `site` in the search function.  I'm going to take a look at the instruments from the cabled benthic experimental package at the 80m site:"
   ]
  },
  {
   "cell_type": "code",
   "execution_count": 76,
   "metadata": {},
   "outputs": [
    {
     "data": {
      "text/html": [
       "<div>\n",
       "<style scoped>\n",
       "    .dataframe tbody tr th:only-of-type {\n",
       "        vertical-align: middle;\n",
       "    }\n",
       "\n",
       "    .dataframe tbody tr th {\n",
       "        vertical-align: top;\n",
       "    }\n",
       "\n",
       "    .dataframe thead th {\n",
       "        text-align: right;\n",
       "    }\n",
       "</style>\n",
       "<table border=\"1\" class=\"dataframe\">\n",
       "  <thead>\n",
       "    <tr style=\"text-align: right;\">\n",
       "      <th></th>\n",
       "      <th>array_name</th>\n",
       "      <th>site_name</th>\n",
       "      <th>infrastructure_name</th>\n",
       "      <th>instrument_name</th>\n",
       "      <th>stream_method</th>\n",
       "      <th>stream_rd</th>\n",
       "    </tr>\n",
       "  </thead>\n",
       "  <tbody>\n",
       "    <tr>\n",
       "      <th>0</th>\n",
       "      <td>Coastal Endurance</td>\n",
       "      <td>Oregon Shelf Cabled Benthic Experiment Package</td>\n",
       "      <td>Low-Power JBox (LJ01D)</td>\n",
       "      <td>3-D Single Point Velocity Meter</td>\n",
       "      <td>streamed</td>\n",
       "      <td>vel3d_cd_velocity_data</td>\n",
       "    </tr>\n",
       "    <tr>\n",
       "      <th>1</th>\n",
       "      <td>Coastal Endurance</td>\n",
       "      <td>Oregon Shelf Cabled Benthic Experiment Package</td>\n",
       "      <td>Low-Power JBox (LJ01D)</td>\n",
       "      <td>3-D Single Point Velocity Meter</td>\n",
       "      <td>bad_streamed</td>\n",
       "      <td>vel3d_cd_velocity_data</td>\n",
       "    </tr>\n",
       "    <tr>\n",
       "      <th>2</th>\n",
       "      <td>Coastal Endurance</td>\n",
       "      <td>Oregon Shelf Cabled Benthic Experiment Package</td>\n",
       "      <td>Low-Power JBox (LJ01D)</td>\n",
       "      <td>CTD</td>\n",
       "      <td>streamed</td>\n",
       "      <td>ctdbp_no_sample</td>\n",
       "    </tr>\n",
       "    <tr>\n",
       "      <th>3</th>\n",
       "      <td>Coastal Endurance</td>\n",
       "      <td>Oregon Shelf Cabled Benthic Experiment Package</td>\n",
       "      <td>Low-Power JBox (LJ01D)</td>\n",
       "      <td>Dissolved Oxygen</td>\n",
       "      <td>streamed</td>\n",
       "      <td>do_stable_sample</td>\n",
       "    </tr>\n",
       "    <tr>\n",
       "      <th>4</th>\n",
       "      <td>Coastal Endurance</td>\n",
       "      <td>Oregon Shelf Cabled Benthic Experiment Package</td>\n",
       "      <td>Low-Power JBox (LJ01D)</td>\n",
       "      <td>Seawater pH</td>\n",
       "      <td>streamed</td>\n",
       "      <td>phsen_data_record</td>\n",
       "    </tr>\n",
       "    <tr>\n",
       "      <th>5</th>\n",
       "      <td>Coastal Endurance</td>\n",
       "      <td>Oregon Shelf Cabled Benthic Experiment Package</td>\n",
       "      <td>Low-Power JBox (LJ01D)</td>\n",
       "      <td>Spectrophotometer</td>\n",
       "      <td>streamed</td>\n",
       "      <td>optaa_sample</td>\n",
       "    </tr>\n",
       "    <tr>\n",
       "      <th>6</th>\n",
       "      <td>Coastal Endurance</td>\n",
       "      <td>Oregon Shelf Cabled Benthic Experiment Package</td>\n",
       "      <td>Low-Power JBox (LJ01D)</td>\n",
       "      <td>Velocity Profiler (300kHz)</td>\n",
       "      <td>streamed</td>\n",
       "      <td>adcp_pd0_beam_parsed</td>\n",
       "    </tr>\n",
       "    <tr>\n",
       "      <th>7</th>\n",
       "      <td>Coastal Endurance</td>\n",
       "      <td>Oregon Shelf Cabled Benthic Experiment Package</td>\n",
       "      <td>Low-Power JBox (LJ01D)</td>\n",
       "      <td>Velocity Profiler (300kHz)</td>\n",
       "      <td>streamed</td>\n",
       "      <td>adcp_velocity_beam</td>\n",
       "    </tr>\n",
       "    <tr>\n",
       "      <th>8</th>\n",
       "      <td>Coastal Endurance</td>\n",
       "      <td>Oregon Shelf Cabled Benthic Experiment Package</td>\n",
       "      <td>Low-Power JBox (LJ01D)</td>\n",
       "      <td>pCO2 Water</td>\n",
       "      <td>streamed</td>\n",
       "      <td>pco2w_b_sami_data_record</td>\n",
       "    </tr>\n",
       "    <tr>\n",
       "      <th>9</th>\n",
       "      <td>Coastal Endurance</td>\n",
       "      <td>Oregon Shelf Cabled Benthic Experiment Package</td>\n",
       "      <td>Medium-Power JBox (MJ01C)</td>\n",
       "      <td>Bio-acoustic Sonar (Coastal)</td>\n",
       "      <td>streamed</td>\n",
       "      <td>zplsc_echogram_data</td>\n",
       "    </tr>\n",
       "  </tbody>\n",
       "</table>\n",
       "</div>"
      ],
      "text/plain": [
       "          array_name                                       site_name  \\\n",
       "0  Coastal Endurance  Oregon Shelf Cabled Benthic Experiment Package   \n",
       "1  Coastal Endurance  Oregon Shelf Cabled Benthic Experiment Package   \n",
       "2  Coastal Endurance  Oregon Shelf Cabled Benthic Experiment Package   \n",
       "3  Coastal Endurance  Oregon Shelf Cabled Benthic Experiment Package   \n",
       "4  Coastal Endurance  Oregon Shelf Cabled Benthic Experiment Package   \n",
       "5  Coastal Endurance  Oregon Shelf Cabled Benthic Experiment Package   \n",
       "6  Coastal Endurance  Oregon Shelf Cabled Benthic Experiment Package   \n",
       "7  Coastal Endurance  Oregon Shelf Cabled Benthic Experiment Package   \n",
       "8  Coastal Endurance  Oregon Shelf Cabled Benthic Experiment Package   \n",
       "9  Coastal Endurance  Oregon Shelf Cabled Benthic Experiment Package   \n",
       "\n",
       "         infrastructure_name                  instrument_name stream_method  \\\n",
       "0     Low-Power JBox (LJ01D)  3-D Single Point Velocity Meter      streamed   \n",
       "1     Low-Power JBox (LJ01D)  3-D Single Point Velocity Meter  bad_streamed   \n",
       "2     Low-Power JBox (LJ01D)                              CTD      streamed   \n",
       "3     Low-Power JBox (LJ01D)                 Dissolved Oxygen      streamed   \n",
       "4     Low-Power JBox (LJ01D)                      Seawater pH      streamed   \n",
       "5     Low-Power JBox (LJ01D)                Spectrophotometer      streamed   \n",
       "6     Low-Power JBox (LJ01D)       Velocity Profiler (300kHz)      streamed   \n",
       "7     Low-Power JBox (LJ01D)       Velocity Profiler (300kHz)      streamed   \n",
       "8     Low-Power JBox (LJ01D)                       pCO2 Water      streamed   \n",
       "9  Medium-Power JBox (MJ01C)     Bio-acoustic Sonar (Coastal)      streamed   \n",
       "\n",
       "                  stream_rd  \n",
       "0    vel3d_cd_velocity_data  \n",
       "1    vel3d_cd_velocity_data  \n",
       "2           ctdbp_no_sample  \n",
       "3          do_stable_sample  \n",
       "4         phsen_data_record  \n",
       "5              optaa_sample  \n",
       "6      adcp_pd0_beam_parsed  \n",
       "7        adcp_velocity_beam  \n",
       "8  pco2w_b_sami_data_record  \n",
       "9       zplsc_echogram_data  "
      ]
     },
     "execution_count": 76,
     "metadata": {},
     "output_type": "execute_result"
    }
   ],
   "source": [
    "ooi.search(region='Coastal Endurance', site='Oregon Shelf Cabled Benthic Experiment Package').instruments"
   ]
  },
  {
   "cell_type": "markdown",
   "metadata": {},
   "source": [
    "I now know there is a CTD on the cabled benthic package, and I am interested in getting the data from that instrument.  However, one last thing I want to check before I actually put in a data request is what the data availability looks like so I can consider what time period I want to request, and I can do that with the `data_availability` function, and this time I am including `instrument='CTD'` in my search:"
   ]
  },
  {
   "cell_type": "code",
   "execution_count": 77,
   "metadata": {},
   "outputs": [
    {
     "name": "stderr",
     "output_type": "stream",
     "text": [
      "/srv/conda/envs/notebook/lib/python3.6/site-packages/urllib3/connectionpool.py:847: InsecureRequestWarning: Unverified HTTPS request is being made. Adding certificate verification is strongly advised. See: https://urllib3.readthedocs.io/en/latest/advanced-usage.html#ssl-warnings\n",
      "  InsecureRequestWarning)\n"
     ]
    },
    {
     "data": {
      "text/html": [
       "<div>\n",
       "<style scoped>\n",
       "    .dataframe tbody tr th:only-of-type {\n",
       "        vertical-align: middle;\n",
       "    }\n",
       "\n",
       "    .dataframe tbody tr th {\n",
       "        vertical-align: top;\n",
       "    }\n",
       "\n",
       "    .dataframe thead th {\n",
       "        text-align: right;\n",
       "    }\n",
       "</style>\n",
       "<table border=\"1\" class=\"dataframe\">\n",
       "  <thead>\n",
       "    <tr style=\"text-align: right;\">\n",
       "      <th></th>\n",
       "      <th>CE02SHBP-LJ01D-06-CTDBPN106-streamed-ctdbp_no_sample</th>\n",
       "    </tr>\n",
       "  </thead>\n",
       "  <tbody>\n",
       "    <tr>\n",
       "      <th>0</th>\n",
       "      <td>Coastal Endurance</td>\n",
       "    </tr>\n",
       "    <tr>\n",
       "      <th>1</th>\n",
       "      <td>Oregon Shelf Cabled Benthic Experiment Package</td>\n",
       "    </tr>\n",
       "    <tr>\n",
       "      <th>2</th>\n",
       "      <td>Low-Power JBox (LJ01D)</td>\n",
       "    </tr>\n",
       "    <tr>\n",
       "      <th>3</th>\n",
       "      <td>CTD</td>\n",
       "    </tr>\n",
       "    <tr>\n",
       "      <th>4</th>\n",
       "      <td>streamed</td>\n",
       "    </tr>\n",
       "    <tr>\n",
       "      <th>5</th>\n",
       "      <td>ctdbp_no_sample</td>\n",
       "    </tr>\n",
       "  </tbody>\n",
       "</table>\n",
       "</div>"
      ],
      "text/plain": [
       "  CE02SHBP-LJ01D-06-CTDBPN106-streamed-ctdbp_no_sample\n",
       "0                                  Coastal Endurance  \n",
       "1     Oregon Shelf Cabled Benthic Experiment Package  \n",
       "2                             Low-Power JBox (LJ01D)  \n",
       "3                                                CTD  \n",
       "4                                           streamed  \n",
       "5                                    ctdbp_no_sample  "
      ]
     },
     "execution_count": 77,
     "metadata": {},
     "output_type": "execute_result"
    },
    {
     "data": {
      "image/png": "[encoded data removed]",
      "text/plain": [
       "<Figure size 1440x720 with 2 Axes>"
      ]
     },
     "metadata": {},
     "output_type": "display_data"
    }
   ],
   "source": [
    "ooi.search(region='Coastal Endurance', site='Oregon Shelf Cabled Benthic Experiment Package',instrument='CTD').data_availability()"
   ]
  },
  {
   "cell_type": "markdown",
   "metadata": {},
   "source": [
    "One note is that I could also do the same thing for multiple instruments, streams, etc. all at once.  For example, if I wanted both the pH and DO sensor data, my search would look like:\n",
    "```python\n",
    "ooi.search(region='Coastal Endurance', site='Oregon Shelf Cabled Benthic Experiment Package',instrument='Seawater pH, Dissolved Oxygen')\n",
    "```\n",
    "\n",
    "### Part 2: Requesting Data\n",
    "\n",
    "Now that I've searched for the CTD, any other function I call from the `ooi` object is specific to the search I conducted.  I can now request data from the instrument I picked above using the `ooi.request_data()` function and specifying a begin and end date for the data that I want.  When I run the function, `yodapy` will interact with the M2M API and request data, which will be packaged into netCDF files and put in my THREDDS Data Server.  You can view what data you already have requested by going to: `https://opendap.oceanobservatories.org/thredds/catalog/ooi/*YOUR_OOI_ACCOUNT_EMAIL_ADDRESS*/catalog.html`\n",
    "\n",
    "In one line, I can submit my data request, and have `yodapy` check when all of the netCDF files are available on the THREDDS server and pull it into python using xarray.  For this example I'm going to request one month of data from the CTD I searched for in Part 1.  `yodapy` will check every 10 seconds and give me an update if the data is avalable yet:"
   ]
  },
  {
   "cell_type": "code",
   "execution_count": 99,
   "metadata": {},
   "outputs": [
    {
     "name": "stderr",
     "output_type": "stream",
     "text": [
      "/srv/conda/envs/notebook/lib/python3.6/site-packages/urllib3/connectionpool.py:847: InsecureRequestWarning: Unverified HTTPS request is being made. Adding certificate verification is strongly advised. See: https://urllib3.readthedocs.io/en/latest/advanced-usage.html#ssl-warnings\n",
      "  InsecureRequestWarning)\n",
      "(MainThread) Your data (https://opendap.oceanobservatories.org/async_results/leviner@uw.edu/20190610T191503-CE02SHBP-LJ01D-06-CTDBPN106-streamed-ctdbp_no_sample) is still compiling... Please wait.\n"
     ]
    },
    {
     "name": "stdout",
     "output_type": "stream",
     "text": [
      "Your data (https://opendap.oceanobservatories.org/async_results/leviner@uw.edu/20190610T191503-CE02SHBP-LJ01D-06-CTDBPN106-streamed-ctdbp_no_sample) is still compiling... Please wait.\n"
     ]
    },
    {
     "name": "stderr",
     "output_type": "stream",
     "text": [
      "(MainThread) Data request time elapsed: 10s\n",
      "(MainThread) Your data (https://opendap.oceanobservatories.org/async_results/leviner@uw.edu/20190610T191503-CE02SHBP-LJ01D-06-CTDBPN106-streamed-ctdbp_no_sample) is still compiling... Please wait.\n"
     ]
    },
    {
     "name": "stdout",
     "output_type": "stream",
     "text": [
      "Data request time elapsed: 10s\n",
      "Your data (https://opendap.oceanobservatories.org/async_results/leviner@uw.edu/20190610T191503-CE02SHBP-LJ01D-06-CTDBPN106-streamed-ctdbp_no_sample) is still compiling... Please wait.\n"
     ]
    },
    {
     "name": "stderr",
     "output_type": "stream",
     "text": [
      "(MainThread) Data request time elapsed: 20s\n"
     ]
    },
    {
     "name": "stdout",
     "output_type": "stream",
     "text": [
      "Data request time elapsed: 20s\n"
     ]
    },
    {
     "name": "stderr",
     "output_type": "stream",
     "text": [
      "(MainThread) Your data (https://opendap.oceanobservatories.org/async_results/leviner@uw.edu/20190610T191503-CE02SHBP-LJ01D-06-CTDBPN106-streamed-ctdbp_no_sample) is still compiling... Please wait.\n"
     ]
    },
    {
     "name": "stdout",
     "output_type": "stream",
     "text": [
      "Your data (https://opendap.oceanobservatories.org/async_results/leviner@uw.edu/20190610T191503-CE02SHBP-LJ01D-06-CTDBPN106-streamed-ctdbp_no_sample) is still compiling... Please wait.\n"
     ]
    },
    {
     "name": "stderr",
     "output_type": "stream",
     "text": [
      "(MainThread) Data request time elapsed: 30s\n",
      "(MainThread) Your data (https://opendap.oceanobservatories.org/async_results/leviner@uw.edu/20190610T191503-CE02SHBP-LJ01D-06-CTDBPN106-streamed-ctdbp_no_sample) is still compiling... Please wait.\n"
     ]
    },
    {
     "name": "stdout",
     "output_type": "stream",
     "text": [
      "Data request time elapsed: 30s\n",
      "Your data (https://opendap.oceanobservatories.org/async_results/leviner@uw.edu/20190610T191503-CE02SHBP-LJ01D-06-CTDBPN106-streamed-ctdbp_no_sample) is still compiling... Please wait.\n"
     ]
    },
    {
     "name": "stderr",
     "output_type": "stream",
     "text": [
      "(MainThread) Data request time elapsed: 40s\n",
      "(MainThread) Your data (https://opendap.oceanobservatories.org/async_results/leviner@uw.edu/20190610T191503-CE02SHBP-LJ01D-06-CTDBPN106-streamed-ctdbp_no_sample) is still compiling... Please wait.\n"
     ]
    },
    {
     "name": "stdout",
     "output_type": "stream",
     "text": [
      "Data request time elapsed: 40s\n",
      "Your data (https://opendap.oceanobservatories.org/async_results/leviner@uw.edu/20190610T191503-CE02SHBP-LJ01D-06-CTDBPN106-streamed-ctdbp_no_sample) is still compiling... Please wait.\n"
     ]
    },
    {
     "name": "stderr",
     "output_type": "stream",
     "text": [
      "(MainThread) Data request time elapsed: 50s\n",
      "(MainThread) Your data (https://opendap.oceanobservatories.org/async_results/leviner@uw.edu/20190610T191503-CE02SHBP-LJ01D-06-CTDBPN106-streamed-ctdbp_no_sample) is still compiling... Please wait.\n"
     ]
    },
    {
     "name": "stdout",
     "output_type": "stream",
     "text": [
      "Data request time elapsed: 50s\n",
      "Your data (https://opendap.oceanobservatories.org/async_results/leviner@uw.edu/20190610T191503-CE02SHBP-LJ01D-06-CTDBPN106-streamed-ctdbp_no_sample) is still compiling... Please wait.\n"
     ]
    },
    {
     "name": "stderr",
     "output_type": "stream",
     "text": [
      "(MainThread) Data request time elapsed: 60s\n",
      "(MainThread) Your data (https://opendap.oceanobservatories.org/async_results/leviner@uw.edu/20190610T191503-CE02SHBP-LJ01D-06-CTDBPN106-streamed-ctdbp_no_sample) is still compiling... Please wait.\n"
     ]
    },
    {
     "name": "stdout",
     "output_type": "stream",
     "text": [
      "Data request time elapsed: 60s\n",
      "Your data (https://opendap.oceanobservatories.org/async_results/leviner@uw.edu/20190610T191503-CE02SHBP-LJ01D-06-CTDBPN106-streamed-ctdbp_no_sample) is still compiling... Please wait.\n"
     ]
    },
    {
     "name": "stderr",
     "output_type": "stream",
     "text": [
      "(MainThread) Data request time elapsed: 70s\n",
      "(MainThread) Your data (https://opendap.oceanobservatories.org/async_results/leviner@uw.edu/20190610T191503-CE02SHBP-LJ01D-06-CTDBPN106-streamed-ctdbp_no_sample) is still compiling... Please wait.\n"
     ]
    },
    {
     "name": "stdout",
     "output_type": "stream",
     "text": [
      "Data request time elapsed: 70s\n",
      "Your data (https://opendap.oceanobservatories.org/async_results/leviner@uw.edu/20190610T191503-CE02SHBP-LJ01D-06-CTDBPN106-streamed-ctdbp_no_sample) is still compiling... Please wait.\n"
     ]
    },
    {
     "name": "stderr",
     "output_type": "stream",
     "text": [
      "(MainThread) Data request time elapsed: 81s\n",
      "(MainThread) Your data (https://opendap.oceanobservatories.org/async_results/leviner@uw.edu/20190610T191503-CE02SHBP-LJ01D-06-CTDBPN106-streamed-ctdbp_no_sample) is still compiling... Please wait.\n"
     ]
    },
    {
     "name": "stdout",
     "output_type": "stream",
     "text": [
      "Data request time elapsed: 81s\n",
      "Your data (https://opendap.oceanobservatories.org/async_results/leviner@uw.edu/20190610T191503-CE02SHBP-LJ01D-06-CTDBPN106-streamed-ctdbp_no_sample) is still compiling... Please wait.\n"
     ]
    },
    {
     "name": "stderr",
     "output_type": "stream",
     "text": [
      "(MainThread) Data request time elapsed: 91s\n",
      "(MainThread) Your data (https://opendap.oceanobservatories.org/async_results/leviner@uw.edu/20190610T191503-CE02SHBP-LJ01D-06-CTDBPN106-streamed-ctdbp_no_sample) is still compiling... Please wait.\n"
     ]
    },
    {
     "name": "stdout",
     "output_type": "stream",
     "text": [
      "Data request time elapsed: 91s\n",
      "Your data (https://opendap.oceanobservatories.org/async_results/leviner@uw.edu/20190610T191503-CE02SHBP-LJ01D-06-CTDBPN106-streamed-ctdbp_no_sample) is still compiling... Please wait.\n"
     ]
    },
    {
     "name": "stderr",
     "output_type": "stream",
     "text": [
      "(MainThread) Data request time elapsed: 101s\n",
      "(MainThread) Your data (https://opendap.oceanobservatories.org/async_results/leviner@uw.edu/20190610T191503-CE02SHBP-LJ01D-06-CTDBPN106-streamed-ctdbp_no_sample) is still compiling... Please wait.\n"
     ]
    },
    {
     "name": "stdout",
     "output_type": "stream",
     "text": [
      "Data request time elapsed: 101s\n",
      "Your data (https://opendap.oceanobservatories.org/async_results/leviner@uw.edu/20190610T191503-CE02SHBP-LJ01D-06-CTDBPN106-streamed-ctdbp_no_sample) is still compiling... Please wait.\n"
     ]
    },
    {
     "name": "stderr",
     "output_type": "stream",
     "text": [
      "(MainThread) Data request time elapsed: 111s\n",
      "(MainThread) Your data (https://opendap.oceanobservatories.org/async_results/leviner@uw.edu/20190610T191503-CE02SHBP-LJ01D-06-CTDBPN106-streamed-ctdbp_no_sample) is still compiling... Please wait.\n"
     ]
    },
    {
     "name": "stdout",
     "output_type": "stream",
     "text": [
      "Data request time elapsed: 111s\n",
      "Your data (https://opendap.oceanobservatories.org/async_results/leviner@uw.edu/20190610T191503-CE02SHBP-LJ01D-06-CTDBPN106-streamed-ctdbp_no_sample) is still compiling... Please wait.\n"
     ]
    },
    {
     "name": "stderr",
     "output_type": "stream",
     "text": [
      "(MainThread) Data request time elapsed: 121s\n",
      "(MainThread) Request (https://opendap.oceanobservatories.org/async_results/leviner@uw.edu/20190610T191503-CE02SHBP-LJ01D-06-CTDBPN106-streamed-ctdbp_no_sample) completed.\n",
      "(MainThread) Acquiring data from opendap urls ...\n"
     ]
    },
    {
     "name": "stdout",
     "output_type": "stream",
     "text": [
      "Data request time elapsed: 121s\n",
      "Request (https://opendap.oceanobservatories.org/async_results/leviner@uw.edu/20190610T191503-CE02SHBP-LJ01D-06-CTDBPN106-streamed-ctdbp_no_sample) completed.\n"
     ]
    }
   ],
   "source": [
    "dslist = ooi.request_data(begin_date='2018-08-01', end_date='2018-09-01', time_check = False).to_xarray()"
   ]
  },
  {
   "cell_type": "markdown",
   "metadata": {},
   "source": [
    "When the data request is done, one thing that `yodapy` does is keeps track of the last request so you can check what data you asked for:"
   ]
  },
  {
   "cell_type": "code",
   "execution_count": 107,
   "metadata": {},
   "outputs": [
    {
     "data": {
      "text/plain": [
       "[('https://ooinet.oceanobservatories.org/api/m2m/12576/sensor/inv/CE02SHBP/LJ01D/06-CTDBPN106/streamed/ctdbp_no_sample',\n",
       "  {'beginDT': '2018-08-01T00:00:00.000000Z',\n",
       "   'endDT': '2018-09-01T00:00:00.000000Z',\n",
       "   'format': 'application/netcdf',\n",
       "   'limit': -1,\n",
       "   'execDPA': 'true',\n",
       "   'include_provenance': 'false'})]"
      ]
     },
     "execution_count": 107,
     "metadata": {},
     "output_type": "execute_result"
    }
   ],
   "source": [
    "ooi.last_requests"
   ]
  },
  {
   "cell_type": "markdown",
   "metadata": {},
   "source": [
    "### Part 3: Data Exploration\n",
    "\n",
    "In my 1 line request above, I had `yodapy` read in the data from the netCDF files to an array of xarray datasets I called `dslist`.  If I had requested multiple instruments or my instrument had multiple data streams and I didn't specify which one I wanted in my search, then the length of `dslist` would be based on however many individual streams were included in the data request.  Since there was only one data stream available for the single CTD, I have one element in `dslist`, which I will assign to a new dataset variable and then see what it contains:"
   ]
  },
  {
   "cell_type": "code",
   "execution_count": 109,
   "metadata": {},
   "outputs": [
    {
     "data": {
      "text/plain": [
       "<xarray.Dataset>\n",
       "Dimensions:                                     (obs: 2227578)\n",
       "Coordinates:\n",
       "  * obs                                         (obs) int32 0 1 ... 2227577\n",
       "    time                                        (obs) datetime64[ns] dask.array<shape=(2227578,), chunksize=(2227578,)>\n",
       "    pressure                                    (obs) float64 dask.array<shape=(2227578,), chunksize=(2227578,)>\n",
       "    lat                                         (obs) float64 dask.array<shape=(2227578,), chunksize=(2227578,)>\n",
       "    lon                                         (obs) float64 dask.array<shape=(2227578,), chunksize=(2227578,)>\n",
       "Data variables:\n",
       "    deployment                                  (obs) int32 dask.array<shape=(2227578,), chunksize=(2227578,)>\n",
       "    id                                          (obs) |S64 dask.array<shape=(2227578,), chunksize=(2227578,)>\n",
       "    conductivity                                (obs) float64 dask.array<shape=(2227578,), chunksize=(2227578,)>\n",
       "    driver_timestamp                            (obs) datetime64[ns] dask.array<shape=(2227578,), chunksize=(2227578,)>\n",
       "    ingestion_timestamp                         (obs) datetime64[ns] dask.array<shape=(2227578,), chunksize=(2227578,)>\n",
       "    internal_timestamp                          (obs) datetime64[ns] dask.array<shape=(2227578,), chunksize=(2227578,)>\n",
       "    oxy_calphase                                (obs) float64 dask.array<shape=(2227578,), chunksize=(2227578,)>\n",
       "    oxy_temp                                    (obs) float64 dask.array<shape=(2227578,), chunksize=(2227578,)>\n",
       "    oxygen                                      (obs) float64 dask.array<shape=(2227578,), chunksize=(2227578,)>\n",
       "    port_timestamp                              (obs) datetime64[ns] dask.array<shape=(2227578,), chunksize=(2227578,)>\n",
       "    preferred_timestamp                         (obs) object dask.array<shape=(2227578,), chunksize=(2227578,)>\n",
       "    pressure_temp                               (obs) float64 dask.array<shape=(2227578,), chunksize=(2227578,)>\n",
       "    temperature                                 (obs) float64 dask.array<shape=(2227578,), chunksize=(2227578,)>\n",
       "    seawater_temperature                        (obs) float64 dask.array<shape=(2227578,), chunksize=(2227578,)>\n",
       "    ctd_tc_oxygen                               (obs) float64 dask.array<shape=(2227578,), chunksize=(2227578,)>\n",
       "    ctdbp_no_seawater_pressure                  (obs) float64 dask.array<shape=(2227578,), chunksize=(2227578,)>\n",
       "    ctdbp_no_seawater_conductivity              (obs) float64 dask.array<shape=(2227578,), chunksize=(2227578,)>\n",
       "    practical_salinity                          (obs) float64 dask.array<shape=(2227578,), chunksize=(2227578,)>\n",
       "    dissolved_oxygen                            (obs) float64 dask.array<shape=(2227578,), chunksize=(2227578,)>\n",
       "    density                                     (obs) float64 dask.array<shape=(2227578,), chunksize=(2227578,)>\n",
       "    seawater_temperature_qc_executed            (obs) float32 dask.array<shape=(2227578,), chunksize=(2227578,)>\n",
       "    seawater_temperature_qc_results             (obs) float32 dask.array<shape=(2227578,), chunksize=(2227578,)>\n",
       "    ctd_tc_oxygen_qc_executed                   (obs) float32 dask.array<shape=(2227578,), chunksize=(2227578,)>\n",
       "    ctd_tc_oxygen_qc_results                    (obs) float32 dask.array<shape=(2227578,), chunksize=(2227578,)>\n",
       "    ctdbp_no_seawater_pressure_qc_executed      (obs) float32 dask.array<shape=(2227578,), chunksize=(2227578,)>\n",
       "    ctdbp_no_seawater_pressure_qc_results       (obs) float32 dask.array<shape=(2227578,), chunksize=(2227578,)>\n",
       "    ctdbp_no_seawater_conductivity_qc_executed  (obs) float32 dask.array<shape=(2227578,), chunksize=(2227578,)>\n",
       "    ctdbp_no_seawater_conductivity_qc_results   (obs) float32 dask.array<shape=(2227578,), chunksize=(2227578,)>\n",
       "    density_qc_executed                         (obs) float32 dask.array<shape=(2227578,), chunksize=(2227578,)>\n",
       "    density_qc_results                          (obs) float32 dask.array<shape=(2227578,), chunksize=(2227578,)>\n",
       "    practical_salinity_qc_executed              (obs) float32 dask.array<shape=(2227578,), chunksize=(2227578,)>\n",
       "    practical_salinity_qc_results               (obs) float32 dask.array<shape=(2227578,), chunksize=(2227578,)>\n",
       "    dissolved_oxygen_qc_executed                (obs) float32 dask.array<shape=(2227578,), chunksize=(2227578,)>\n",
       "    dissolved_oxygen_qc_results                 (obs) float32 dask.array<shape=(2227578,), chunksize=(2227578,)>\n",
       "Attributes:\n",
       "    _NCProperties:                   version=1|netcdflibversion=4.4.1.1|hdf5l...\n",
       "    node:                            LJ01D\n",
       "    comment:                         \n",
       "    publisher_email:                 \n",
       "    sourceUrl:                       http://oceanobservatories.org/\n",
       "    collection_method:               streamed\n",
       "    stream:                          ctdbp_no_sample\n",
       "    featureType:                     point\n",
       "    creator_email:                   \n",
       "    publisher_name:                  Ocean Observatories Initiative\n",
       "    date_modified:                   2019-06-10T19:15:55.557061\n",
       "    keywords:                        \n",
       "    cdm_data_type:                   Point\n",
       "    references:                      More information can be found at http://...\n",
       "    Metadata_Conventions:            Unidata Dataset Discovery v1.0\n",
       "    date_created:                    2019-06-10T19:15:55.557054\n",
       "    id:                              CE02SHBP-LJ01D-06-CTDBPN106-streamed-ctd...\n",
       "    requestUUID:                     c503a31b-bfe9-48fe-9457-2f8c82b1a62d\n",
       "    contributor_role:                \n",
       "    summary:                         Dataset Generated by Stream Engine from ...\n",
       "    keywords_vocabulary:             \n",
       "    institution:                     Ocean Observatories Initiative\n",
       "    naming_authority:                org.oceanobservatories\n",
       "    feature_Type:                    point\n",
       "    infoUrl:                         http://oceanobservatories.org/\n",
       "    license:                         \n",
       "    contributor_name:                \n",
       "    uuid:                            c503a31b-bfe9-48fe-9457-2f8c82b1a62d\n",
       "    creator_name:                    Ocean Observatories Initiative\n",
       "    title:                           Data produced by Stream Engine version 1...\n",
       "    sensor:                          06-CTDBPN106\n",
       "    standard_name_vocabulary:        NetCDF Climate and Forecast (CF) Metadat...\n",
       "    acknowledgement:                 \n",
       "    Conventions:                     CF-1.6\n",
       "    project:                         Ocean Observatories Initiative\n",
       "    source:                          CE02SHBP-LJ01D-06-CTDBPN106-streamed-ctd...\n",
       "    publisher_url:                   http://oceanobservatories.org/\n",
       "    creator_url:                     http://oceanobservatories.org/\n",
       "    nodc_template_version:           NODC_NetCDF_TimeSeries_Orthogonal_Templa...\n",
       "    subsite:                         CE02SHBP\n",
       "    processing_level:                L2\n",
       "    history:                         2019-06-10T19:15:55.556956 generated fro...\n",
       "    time_coverage_start:             2018-08-01T00:00:00.295302\n",
       "    time_coverage_end:               2018-08-31T23:59:59.618173\n",
       "    time_coverage_resolution:        P1.20S\n",
       "    geospatial_lat_min:              44.63708\n",
       "    geospatial_lat_max:              44.63708\n",
       "    geospatial_lat_units:            degrees_north\n",
       "    geospatial_lat_resolution:       0.1\n",
       "    geospatial_lon_min:              -124.30595\n",
       "    geospatial_lon_max:              -124.30595\n",
       "    geospatial_lon_units:            degrees_east\n",
       "    geospatial_lon_resolution:       0.1\n",
       "    geospatial_vertical_units:       meters\n",
       "    geospatial_vertical_resolution:  0.1\n",
       "    geospatial_vertical_positive:    down\n",
       "    DODS.strlen:                     14\n",
       "    DODS.dimName:                    string14\n",
       "    DODS_EXTRA.Unlimited_Dimension:  obs"
      ]
     },
     "execution_count": 109,
     "metadata": {},
     "output_type": "execute_result"
    }
   ],
   "source": [
    "dsCTD = dslist[0]\n",
    "dsCTD"
   ]
  },
  {
   "cell_type": "markdown",
   "metadata": {},
   "source": [
    "[xarray](http://xarray.pydata.org/en/stable/), which has kept our netCDF file variables nicely organized, has some handy tools borrowed from [pandas](https://pandas.pydata.org/) such as the ability to quickly plot any of the data variables:"
   ]
  },
  {
   "cell_type": "code",
   "execution_count": 112,
   "metadata": {},
   "outputs": [
    {
     "data": {
      "text/plain": [
       "[<matplotlib.lines.Line2D at 0x7f6077da1748>]"
      ]
     },
     "execution_count": 112,
     "metadata": {},
     "output_type": "execute_result"
    },
    {
     "data": {
      "image/png": "[encoded data removed]",
      "text/plain": [
       "<Figure size 432x288 with 1 Axes>"
      ]
     },
     "metadata": {},
     "output_type": "display_data"
    }
   ],
   "source": [
    "dsCTD.seawater_temperature.plot()"
   ]
  },
  {
   "cell_type": "markdown",
   "metadata": {},
   "source": [
    "However, you might notice that the x-axis is just `obs`, a count of observations in the whole dataset.  This isn't as intuitive as plotting against something like time, which if we look above, is one of the coordinates available in the dataset.  I can tell xarray to switch to use time as my dimension rather than obs and then quickly replot."
   ]
  },
  {
   "cell_type": "code",
   "execution_count": 115,
   "metadata": {},
   "outputs": [
    {
     "data": {
      "text/plain": [
       "[<matplotlib.lines.Line2D at 0x7f6077866da0>]"
      ]
     },
     "execution_count": 115,
     "metadata": {},
     "output_type": "execute_result"
    },
    {
     "data": {
      "image/png": "[encoded data removed]",
      "text/plain": [
       "<Figure size 432x288 with 1 Axes>"
      ]
     },
     "metadata": {},
     "output_type": "display_data"
    }
   ],
   "source": [
    "dsCTD = dsCTD.swap_dims({'obs':'time'})\n",
    "dsCTD.seawater_temperature.plot()"
   ]
  },
  {
   "cell_type": "markdown",
   "metadata": {},
   "source": [
    "### \\*If working local...\n",
    "\n",
    "Now that you have data requested and `yodapy` had organized all of the data into a nice dataset for you, you can save a copy of the entire dataset as a netCDF to your local computer, which you can then play around with in whatever language/software you prefer.  xarray can read and write netCDF files, and the simplest way to save your new data would be:\n",
    "\n",
    "```python\n",
    "dsCTD.to_netdf('PATH/FILENAME')\n",
    "```"
   ]
  }
 ],
 "metadata": {
  "kernelspec": {
   "display_name": "Python 3",
   "language": "python",
   "name": "python3"
  },
  "language_info": {
   "codemirror_mode": {
    "name": "ipython",
    "version": 3
   },
   "file_extension": ".py",
   "mimetype": "text/x-python",
   "name": "python",
   "nbconvert_exporter": "python",
   "pygments_lexer": "ipython3",
   "version": "3.6.7"
  }
 },
 "nbformat": 4,
 "nbformat_minor": 2
}
